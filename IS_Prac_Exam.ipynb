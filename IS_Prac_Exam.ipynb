{
  "nbformat": 4,
  "nbformat_minor": 0,
  "metadata": {
    "colab": {
      "provenance": [],
      "collapsed_sections": [
        "yfSCUPjeECEo",
        "Rxf28FmKEpQt",
        "V1DS9ibWHf00",
        "Izetyjt4UHJK",
        "8mYK-a5SfnT8",
        "ddYcfZenoY8x",
        "h7zTiFuKbMCn",
        "llgpQfrYcJHy",
        "tHBD2lBedHjg",
        "vbJuJMMLi7lM"
      ],
      "include_colab_link": true
    },
    "kernelspec": {
      "name": "python3",
      "display_name": "Python 3"
    },
    "language_info": {
      "name": "python"
    }
  },
  "cells": [
    {
      "cell_type": "markdown",
      "metadata": {
        "id": "view-in-github",
        "colab_type": "text"
      },
      "source": [
        "<a href=\"https://colab.research.google.com/github/omuskaikar/Information-Security-Practice/blob/main/IS_Prac_Exam.ipynb\" target=\"_parent\"><img src=\"https://colab.research.google.com/assets/colab-badge.svg\" alt=\"Open In Colab\"/></a>"
      ]
    },
    {
      "cell_type": "markdown",
      "source": [
        "# Euclidean Algorithm"
      ],
      "metadata": {
        "id": "yfSCUPjeECEo"
      }
    },
    {
      "cell_type": "code",
      "execution_count": null,
      "metadata": {
        "colab": {
          "base_uri": "https://localhost:8080/"
        },
        "id": "4puj6QH96_Cg",
        "outputId": "7c6ce484-1e96-4c1e-a25c-240ec318e7d9"
      },
      "outputs": [
        {
          "output_type": "stream",
          "name": "stdout",
          "text": [
            "The GCD of 48 and 18 is: 6\n"
          ]
        }
      ],
      "source": [
        "def euclidean_algorithm(a, b):\n",
        "    while b != 0:\n",
        "        a, b = b, a % b\n",
        "    return a\n",
        "\n",
        "num1 = 48\n",
        "num2 = 18\n",
        "\n",
        "gcd_result = euclidean_algorithm(num1, num2)\n",
        "\n",
        "print(f\"The GCD of {num1} and {num2} is: {gcd_result}\")\n"
      ]
    },
    {
      "cell_type": "markdown",
      "source": [
        "# Extended Euclidean Algorithm"
      ],
      "metadata": {
        "id": "Rxf28FmKEpQt"
      }
    },
    {
      "cell_type": "code",
      "source": [
        "def EE(a,b,q,t1,t2,t):\n",
        "\n",
        "  if b==0:\n",
        "    print(f\"{q}\\t{a}\\t{b}\\t \\t{t1}\\t{t2}\\t{t}\")\n",
        "    return a,t1\n",
        "\n",
        "  q=a//b\n",
        "  new_a=b\n",
        "  new_b=a%b\n",
        "  new_t1=t2\n",
        "  new_t=t1-q*t2\n",
        "  print(f\"{q}\\t{a}\\t{b}\\t{new_b}\\t{t1}\\t{t2}\\t{new_t}\")\n",
        "\n",
        "  return EE(new_a,new_b,q,t2,new_t,t)"
      ],
      "metadata": {
        "id": "YqAtRkCWhuZg"
      },
      "execution_count": null,
      "outputs": []
    },
    {
      "cell_type": "code",
      "source": [
        "a=26\n",
        "b=11\n",
        "print(\"Q\\tA\\tB\\tR\\tT1\\tT2\\tT\")\n",
        "print(\"-\"*50)\n",
        "gcd , T1 = EE(a,b,0,0,1,1)\n",
        "print(f\"\\nGCD({a}, {b}) = {gcd}\")\n",
        "print(f\"T1 = {T1}\")"
      ],
      "metadata": {
        "colab": {
          "base_uri": "https://localhost:8080/"
        },
        "id": "ZOtLBZEeiBtu",
        "outputId": "a95ac9ff-29e1-43f4-872a-ecf3693fc325"
      },
      "execution_count": null,
      "outputs": [
        {
          "output_type": "stream",
          "name": "stdout",
          "text": [
            "Q\tA\tB\tR\tT1\tT2\tT\n",
            "--------------------------------------------------\n",
            "2\t26\t11\t4\t0\t1\t-2\n",
            "2\t11\t4\t3\t1\t-2\t5\n",
            "1\t4\t3\t1\t-2\t5\t-7\n",
            "3\t3\t1\t0\t5\t-7\t26\n",
            "3\t1\t0\t \t-7\t26\t1\n",
            "\n",
            "GCD(26, 11) = 1\n",
            "T1 = -7\n"
          ]
        }
      ]
    },
    {
      "cell_type": "markdown",
      "source": [
        "# Vernam Cipher"
      ],
      "metadata": {
        "id": "V1DS9ibWHf00"
      }
    },
    {
      "cell_type": "code",
      "source": [
        "import random as rn\n",
        "\n",
        "def generate(PT):\n",
        "    key = ''.join(rn.choice('ABCDEFGHIJKLMNOPQRSTUVWXYZ') for _ in range(PT))\n",
        "    return key\n",
        "\n",
        "def encrypt(PT, key):\n",
        "    CT = ''.join(chr(ord(p) ^ ord(k)) for p, k in zip(PT, key))\n",
        "    return CT\n",
        "\n",
        "def decrypt(CT, key):\n",
        "    DT = ''.join(chr(ord(c) ^ ord(k)) for c, k in zip(CT, key))\n",
        "    return DT\n",
        "\n",
        "\n",
        "PT = \"HELLO\"\n",
        "key = generate(len(PT))\n",
        "\n",
        "print(\"PT:\", PT)\n",
        "print(\"Key:\", key)\n",
        "\n",
        "CT = encrypt(PT, key)\n",
        "print(\"CT:\", CT)\n",
        "\n",
        "DT = decrypt(CT, key)\n",
        "print(\"Decrypted Text:\", DT)"
      ],
      "metadata": {
        "colab": {
          "base_uri": "https://localhost:8080/"
        },
        "id": "qDaNJJyNEtJh",
        "outputId": "fa226560-bb43-46d6-f8ec-4917896837db"
      },
      "execution_count": null,
      "outputs": [
        {
          "output_type": "stream",
          "name": "stdout",
          "text": [
            "PT: HELLO\n",
            "Key: WTKOB\n",
            "CT: \u001f\u0011\u0007\u0003\r\n",
            "Decrypted Text: HELLO\n"
          ]
        }
      ]
    },
    {
      "cell_type": "markdown",
      "source": [
        "# Ceaser Cipher"
      ],
      "metadata": {
        "id": "-3bK_xHlSCFp"
      }
    },
    {
      "cell_type": "code",
      "source": [
        "def encrypt(text, key):\n",
        "    encrypted = \"\"\n",
        "    for char in text:\n",
        "\n",
        "        if 'A' <= char <= 'Z':\n",
        "            E_char = chr((ord(char) - ord('A') + key) % 26 + ord('A'))\n",
        "\n",
        "        elif 'a' <= char <= 'z':\n",
        "            E_char = chr((ord(char) - ord('a') + key) % 26 + ord('a'))\n",
        "\n",
        "        else:\n",
        "            E_char = char\n",
        "\n",
        "        encrypted += E_char\n",
        "\n",
        "    return encrypted\n",
        "\n",
        "PT = \"mihir\"\n",
        "key = 10\n",
        "\n",
        "\n",
        "\n",
        "CT = encrypt(PT, key)\n",
        "print(\"Input text:\", PT)\n",
        "print(\"Encrypted text:\", CT)\n"
      ],
      "metadata": {
        "id": "sEVR3EFEIISr",
        "colab": {
          "base_uri": "https://localhost:8080/"
        },
        "outputId": "b08d147d-d55f-4d5a-8a9c-c2be44ff9130"
      },
      "execution_count": null,
      "outputs": [
        {
          "output_type": "stream",
          "name": "stdout",
          "text": [
            "Input text: mihir\n",
            "Encrypted text: wsrsb\n"
          ]
        }
      ]
    },
    {
      "cell_type": "markdown",
      "source": [
        "# Brute Force attack"
      ],
      "metadata": {
        "id": "xTw5TE-zlMml"
      }
    },
    {
      "cell_type": "code",
      "source": [
        "def decrypt(text, key):\n",
        "    decrypted = \"\"\n",
        "    for char in text:\n",
        "\n",
        "        if 'A' <= char <= 'Z':\n",
        "            E_char = chr((ord(char) - ord('A') - key) % 26 + ord('A'))\n",
        "\n",
        "        elif 'a' <= char <= 'z':\n",
        "            E_char = chr((ord(char) - ord('a') - key) % 26 + ord('a'))\n",
        "\n",
        "        else:\n",
        "            E_char = char\n",
        "\n",
        "        decrypted += E_char\n",
        "\n",
        "    return decrypted"
      ],
      "metadata": {
        "id": "JAoYsGT4eNbO"
      },
      "execution_count": null,
      "outputs": []
    },
    {
      "cell_type": "code",
      "source": [
        "def bruteforce(ct):\n",
        "  for i in range(1,27):\n",
        "    print(f\"Key {i} : {decrypt(ct,i)}\")"
      ],
      "metadata": {
        "id": "TMkgZpkmelS2"
      },
      "execution_count": null,
      "outputs": []
    },
    {
      "cell_type": "code",
      "source": [
        "bruteforce(\"wsrsb\")"
      ],
      "metadata": {
        "colab": {
          "base_uri": "https://localhost:8080/"
        },
        "id": "ANcUSZ6fevSG",
        "outputId": "64004499-5d1b-4c8a-8b11-0024d309d027"
      },
      "execution_count": null,
      "outputs": [
        {
          "output_type": "stream",
          "name": "stdout",
          "text": [
            "Key 1 : vrqra\n",
            "Key 2 : uqpqz\n",
            "Key 3 : tpopy\n",
            "Key 4 : sonox\n",
            "Key 5 : rnmnw\n",
            "Key 6 : qmlmv\n",
            "Key 7 : plklu\n",
            "Key 8 : okjkt\n",
            "Key 9 : njijs\n",
            "Key 10 : mihir\n",
            "Key 11 : lhghq\n",
            "Key 12 : kgfgp\n",
            "Key 13 : jfefo\n",
            "Key 14 : ieden\n",
            "Key 15 : hdcdm\n",
            "Key 16 : gcbcl\n",
            "Key 17 : fbabk\n",
            "Key 18 : eazaj\n",
            "Key 19 : dzyzi\n",
            "Key 20 : cyxyh\n",
            "Key 21 : bxwxg\n",
            "Key 22 : awvwf\n",
            "Key 23 : zvuve\n",
            "Key 24 : yutud\n",
            "Key 25 : xtstc\n",
            "Key 26 : wsrsb\n"
          ]
        }
      ]
    },
    {
      "cell_type": "markdown",
      "source": [
        "# Rail Fence"
      ],
      "metadata": {
        "id": "Izetyjt4UHJK"
      }
    },
    {
      "cell_type": "code",
      "source": [
        "def encryptRailFence(PT, key):\n",
        "\n",
        "\trail = [['\\n' for i in range(len(PT))] for j in range(key)]\n",
        "\n",
        "\tdown = False\n",
        "\trow, col = 0, 0\n",
        "\n",
        "\tfor i in range(len(PT)):\n",
        "\n",
        "\t\tif (row == 0) or (row == key - 1):\n",
        "\t\t\tdown = not down\n",
        "\n",
        "\t\trail[row][col] = PT[i]\n",
        "\t\tcol += 1\n",
        "\n",
        "\t\tif down:\n",
        "\t\t\trow += 1\n",
        "\t\telse:\n",
        "\t\t\trow -= 1\n",
        "\n",
        "\tresult = []\n",
        "\n",
        "\tfor i in rail:\n",
        "\t\tprint(f\"{i}\\t\")\n",
        "\n",
        "\tresult = ''.join(char for row in rail for char in row if char != '\\n') #\n",
        "\n",
        "\treturn result\n"
      ],
      "metadata": {
        "id": "8xjUK00uayfk"
      },
      "execution_count": null,
      "outputs": []
    },
    {
      "cell_type": "code",
      "source": [
        "PT = \"attack at once\"\n",
        "print(PT)\n",
        "\n",
        "CT = encryptRailFence(PT, 2)\n",
        "print(CT)"
      ],
      "metadata": {
        "colab": {
          "base_uri": "https://localhost:8080/"
        },
        "id": "H5lJunQIVVpt",
        "outputId": "5c7187e5-e25d-4990-a096-c374ddc884e4"
      },
      "execution_count": null,
      "outputs": [
        {
          "output_type": "stream",
          "name": "stdout",
          "text": [
            "attack at once\n",
            "['a', '\\n', 't', '\\n', 'c', '\\n', ' ', '\\n', 't', '\\n', 'o', '\\n', 'c', '\\n']\t\n",
            "['\\n', 't', '\\n', 'a', '\\n', 'k', '\\n', 'a', '\\n', ' ', '\\n', 'n', '\\n', 'e']\t\n",
            "atc toctaka ne\n"
          ]
        }
      ]
    },
    {
      "cell_type": "markdown",
      "source": [
        "# Columnar Transposition"
      ],
      "metadata": {
        "id": "8mYK-a5SfnT8"
      }
    },
    {
      "cell_type": "code",
      "source": [
        "import math\n",
        "\n",
        "def columnar(msg,key):\n",
        "\n",
        "  col=len(key)\n",
        "  msg_len=len(msg)\n",
        "\n",
        "  row=int(math.ceil(msg_len/col))\n",
        "\n",
        "  fill_null = row * col - msg_len\n",
        "  msg += '_'* fill_null\n",
        "\n",
        "  matrix = [list(msg[i:i+col]) for i in range(0,len(msg),col)]\n",
        "\n",
        "  cipher=''.join([row[key.index(k)] for k in sorted(key) for row in matrix])  #star\n",
        "\n",
        "  return cipher,matrix\n"
      ],
      "metadata": {
        "id": "QyfBgeNxpUhR"
      },
      "execution_count": null,
      "outputs": []
    },
    {
      "cell_type": "code",
      "source": [
        "message = 'attack at once'\n",
        "key = 'hack'\n",
        "\n",
        "cipher,matrix = columnar(message,key)\n",
        "\n",
        "for i in matrix:\n",
        "  print(i)\n",
        "\n",
        "print(\"Cipher text is :\",cipher)\n"
      ],
      "metadata": {
        "colab": {
          "base_uri": "https://localhost:8080/"
        },
        "id": "KUKvZtsWnhFn",
        "outputId": "0fdd8eba-dff5-4a38-ae7b-6d30023e17ea"
      },
      "execution_count": null,
      "outputs": [
        {
          "output_type": "stream",
          "name": "stdout",
          "text": [
            "['a', 't', 't', 'a']\n",
            "['c', 'k', ' ', 'a']\n",
            "['t', ' ', 'o', 'n']\n",
            "['c', 'e', '_', '_']\n",
            "Cipher text is : tk et o_actcaan_\n"
          ]
        }
      ]
    },
    {
      "cell_type": "markdown",
      "source": [
        "# Row Transposition"
      ],
      "metadata": {
        "id": "0nvHguhZw2Wm"
      }
    },
    {
      "cell_type": "code",
      "source": [
        "import math\n",
        "\n",
        "def row(msg, key):\n",
        "\n",
        "    col = len(key)\n",
        "    msg_len = len(msg)\n",
        "\n",
        "    row = int(math.ceil(msg_len / col))\n",
        "    fill_null = row * col - msg_len\n",
        "\n",
        "    msg += '_' * fill_null\n",
        "    matrix = [list(msg[i:i+col]) for i in range(0, len(msg), col)]\n",
        "\n",
        "    cipher = ''.join([matrix[key.index(k)][i] for k in sorted(key) for i in range(row)]) #star\n",
        "\n",
        "    return cipher, matrix\n",
        "\n",
        "message = 'attack at once'\n",
        "key = 'hack'\n",
        "\n",
        "cipher, matrix = row(message, key)\n",
        "\n",
        "for i in matrix:\n",
        "    print(i)\n",
        "\n",
        "print(\"Cipher text is:\", cipher)\n"
      ],
      "metadata": {
        "colab": {
          "base_uri": "https://localhost:8080/"
        },
        "id": "Pi0BftVgw6Yi",
        "outputId": "b9ed7498-b539-4b2f-d2e4-448a5f602b25"
      },
      "execution_count": null,
      "outputs": [
        {
          "output_type": "stream",
          "name": "stdout",
          "text": [
            "['a', 't', 't', 'a']\n",
            "['c', 'k', ' ', 'a']\n",
            "['t', ' ', 'o', 'n']\n",
            "['c', 'e', '_', '_']\n",
            "Cipher text is: ck at onattace__\n"
          ]
        }
      ]
    },
    {
      "cell_type": "markdown",
      "source": [
        "# Product Cipher"
      ],
      "metadata": {
        "id": "ddYcfZenoY8x"
      }
    },
    {
      "cell_type": "code",
      "source": [
        "import math\n",
        "\n",
        "# Caesar Cipher Encryption\n",
        "def caesar(text, shift):\n",
        "    result = \"\"\n",
        "    for char in text:\n",
        "        if char.isalpha():\n",
        "            if char.isupper():\n",
        "                result += chr((ord(char) + shift - ord('A')) % 26 + ord('A'))\n",
        "            else:\n",
        "                result += chr((ord(char) + shift - ord('a')) % 26 + ord('a'))\n",
        "        else:\n",
        "            result += char\n",
        "    return result\n",
        "\n",
        "# Rail Fence Cipher Encryption\n",
        "def rail(text, key):\n",
        "    rail = [['\\n' for _ in range(len(text))] for _ in range(key)]\n",
        "    down = False\n",
        "    row, col = 0, 0\n",
        "\n",
        "    for char in text:\n",
        "        if row == 0 or row == key - 1:\n",
        "            down = not down\n",
        "\n",
        "        rail[row][col] = char\n",
        "        col += 1\n",
        "\n",
        "        if down:\n",
        "            row += 1\n",
        "        else:\n",
        "            row -= 1\n",
        "\n",
        "    result = ''.join(char for row in rail for char in row if char != '\\n') #\n",
        "    return result\n",
        "\n",
        "# Product Cipher Encryption\n",
        "def product_cipher_encrypt(PT, caesar_key, rail_key):\n",
        "    caesar_result = caesar(PT, caesar_key)\n",
        "    return rail(caesar_result, rail_key)\n",
        "\n",
        "# Example usage\n",
        "PT = \"Hello, World!\"\n",
        "caesar_key = 3\n",
        "rail_key = 3\n",
        "\n",
        "# Encryption\n",
        "CT = product_cipher_encrypt(PT, caesar_key, rail_key)\n",
        "print(\"Cipher Text:\", CT)\n"
      ],
      "metadata": {
        "colab": {
          "base_uri": "https://localhost:8080/"
        },
        "id": "-ej6lM7inlVe",
        "outputId": "37a125d8-3392-4c31-b6d6-5ca50bf5715c"
      },
      "execution_count": null,
      "outputs": [
        {
          "output_type": "stream",
          "name": "stdout",
          "text": [
            "Cipher Text: Krr!ho,Zugo o\n"
          ]
        }
      ]
    },
    {
      "cell_type": "markdown",
      "source": [
        "# Playfair"
      ],
      "metadata": {
        "id": "h7zTiFuKbMCn"
      }
    },
    {
      "cell_type": "code",
      "source": [
        "import pandas as pd\n",
        "import numpy as np\n",
        "\n",
        "def encrypt(pt,key):\n",
        "\n",
        "  df = pd.DataFrame(columns=[0,1,2,3,4])\n",
        "\n",
        "  for col in df.columns:\n",
        "    df[col]=[\" \" for i in range(5)]\n",
        "\n",
        "  row=0\n",
        "  col=0\n",
        "  p=\"\"\n",
        "  for char in key:\n",
        "    if char not in p:\n",
        "      p=p+char\n",
        "\n",
        "  for i in p:\n",
        "    df[col][row]=i\n",
        "    if(col<4):\n",
        "      col=col+1\n",
        "    else:\n",
        "      row=row+1\n",
        "      col=0\n",
        "\n",
        "  alphabets=[]\n",
        "  for i in range(ord('a'),ord('z')+1):\n",
        "    alphabets.append(chr(i))\n",
        "\n",
        "  if('i' in p or 'j' in p):\n",
        "    alphabets.remove('i')\n",
        "    alphabets.remove('j')\n",
        "\n",
        "  newL=[]\n",
        "  for alpha in alphabets:\n",
        "      if(alpha not in p):\n",
        "          newL.append(alpha)\n",
        "\n",
        "  if('i' in newL):\n",
        "    newL.remove('j')\n",
        "\n",
        "  for letter in newL:\n",
        "    df[col][row]=letter\n",
        "    if(col<4):\n",
        "      col=col+1\n",
        "    else:\n",
        "      row=row+1\n",
        "      col=0\n",
        "\n",
        "  pairs=[]\n",
        "\n",
        "  i=0\n",
        "  while i<len(pt):\n",
        "    try:\n",
        "      if(pt[i]==pt[i+1]):\n",
        "        pair = pt[i] + \"x\"\n",
        "        i=i+1\n",
        "        pairs.append(pair)\n",
        "      else:\n",
        "        pair=pt[i]+pt[i+1]\n",
        "        i=i+2\n",
        "        pairs.append(pair)\n",
        "    except(IndexError):\n",
        "      pair = pt[i] + \"x\"\n",
        "      pairs.append(pair)\n",
        "      break\n",
        "\n",
        "  ct=\"\"\n",
        "  for i in pairs:\n",
        "    res1=np.where(df==i[0])\n",
        "    res2=np.where(df==i[1])\n",
        "\n",
        "    row1=res1[0][0]\n",
        "    col1=res1[1][0]\n",
        "\n",
        "    row2=res2[0][0]\n",
        "    col2=res2[1][0]\n",
        "\n",
        "    if(col1==col2):\n",
        "      if(row1==4):\n",
        "        row1=0\n",
        "      else:\n",
        "        row1=row1+1\n",
        "      if(row2==4):\n",
        "        row2=0\n",
        "      else:\n",
        "        row2=row2+1\n",
        "\n",
        "    elif(row1==row2):\n",
        "      if(col1==4):\n",
        "        col1=0\n",
        "      else:\n",
        "        col1=col1+1\n",
        "      if(col2==4):\n",
        "        col2=0\n",
        "      else:\n",
        "        col2=col2+1\n",
        "\n",
        "    else:\n",
        "      col1 , col2 = col2, col1\n",
        "\n",
        "    l1=df[col1][row1]\n",
        "    l2=df[col2][row2]\n",
        "    newPair=l1+l2\n",
        "    ct=ct+newPair\n",
        "\n",
        "  return ct, df\n",
        "\n",
        "ct,df=encrypt('hello','monarchy')"
      ],
      "metadata": {
        "id": "nvy_H0fZZGLT"
      },
      "execution_count": null,
      "outputs": []
    },
    {
      "cell_type": "code",
      "source": [
        "df"
      ],
      "metadata": {
        "colab": {
          "base_uri": "https://localhost:8080/",
          "height": 206
        },
        "id": "CgBNrVIBah0P",
        "outputId": "1487b9e6-acfe-41e4-bad0-6c70b3450b8d"
      },
      "execution_count": null,
      "outputs": [
        {
          "output_type": "execute_result",
          "data": {
            "text/plain": [
              "   0  1  2  3  4\n",
              "0  m  o  n  a  r\n",
              "1  c  h  y  b  d\n",
              "2  e  f  g  i  k\n",
              "3  l  p  q  s  t\n",
              "4  u  v  w  x  z"
            ],
            "text/html": [
              "\n",
              "  <div id=\"df-5138f429-2f95-4512-be8b-2e64e1f786a9\" class=\"colab-df-container\">\n",
              "    <div>\n",
              "<style scoped>\n",
              "    .dataframe tbody tr th:only-of-type {\n",
              "        vertical-align: middle;\n",
              "    }\n",
              "\n",
              "    .dataframe tbody tr th {\n",
              "        vertical-align: top;\n",
              "    }\n",
              "\n",
              "    .dataframe thead th {\n",
              "        text-align: right;\n",
              "    }\n",
              "</style>\n",
              "<table border=\"1\" class=\"dataframe\">\n",
              "  <thead>\n",
              "    <tr style=\"text-align: right;\">\n",
              "      <th></th>\n",
              "      <th>0</th>\n",
              "      <th>1</th>\n",
              "      <th>2</th>\n",
              "      <th>3</th>\n",
              "      <th>4</th>\n",
              "    </tr>\n",
              "  </thead>\n",
              "  <tbody>\n",
              "    <tr>\n",
              "      <th>0</th>\n",
              "      <td>m</td>\n",
              "      <td>o</td>\n",
              "      <td>n</td>\n",
              "      <td>a</td>\n",
              "      <td>r</td>\n",
              "    </tr>\n",
              "    <tr>\n",
              "      <th>1</th>\n",
              "      <td>c</td>\n",
              "      <td>h</td>\n",
              "      <td>y</td>\n",
              "      <td>b</td>\n",
              "      <td>d</td>\n",
              "    </tr>\n",
              "    <tr>\n",
              "      <th>2</th>\n",
              "      <td>e</td>\n",
              "      <td>f</td>\n",
              "      <td>g</td>\n",
              "      <td>i</td>\n",
              "      <td>k</td>\n",
              "    </tr>\n",
              "    <tr>\n",
              "      <th>3</th>\n",
              "      <td>l</td>\n",
              "      <td>p</td>\n",
              "      <td>q</td>\n",
              "      <td>s</td>\n",
              "      <td>t</td>\n",
              "    </tr>\n",
              "    <tr>\n",
              "      <th>4</th>\n",
              "      <td>u</td>\n",
              "      <td>v</td>\n",
              "      <td>w</td>\n",
              "      <td>x</td>\n",
              "      <td>z</td>\n",
              "    </tr>\n",
              "  </tbody>\n",
              "</table>\n",
              "</div>\n",
              "    <div class=\"colab-df-buttons\">\n",
              "\n",
              "  <div class=\"colab-df-container\">\n",
              "    <button class=\"colab-df-convert\" onclick=\"convertToInteractive('df-5138f429-2f95-4512-be8b-2e64e1f786a9')\"\n",
              "            title=\"Convert this dataframe to an interactive table.\"\n",
              "            style=\"display:none;\">\n",
              "\n",
              "  <svg xmlns=\"http://www.w3.org/2000/svg\" height=\"24px\" viewBox=\"0 -960 960 960\">\n",
              "    <path d=\"M120-120v-720h720v720H120Zm60-500h600v-160H180v160Zm220 220h160v-160H400v160Zm0 220h160v-160H400v160ZM180-400h160v-160H180v160Zm440 0h160v-160H620v160ZM180-180h160v-160H180v160Zm440 0h160v-160H620v160Z\"/>\n",
              "  </svg>\n",
              "    </button>\n",
              "\n",
              "  <style>\n",
              "    .colab-df-container {\n",
              "      display:flex;\n",
              "      gap: 12px;\n",
              "    }\n",
              "\n",
              "    .colab-df-convert {\n",
              "      background-color: #E8F0FE;\n",
              "      border: none;\n",
              "      border-radius: 50%;\n",
              "      cursor: pointer;\n",
              "      display: none;\n",
              "      fill: #1967D2;\n",
              "      height: 32px;\n",
              "      padding: 0 0 0 0;\n",
              "      width: 32px;\n",
              "    }\n",
              "\n",
              "    .colab-df-convert:hover {\n",
              "      background-color: #E2EBFA;\n",
              "      box-shadow: 0px 1px 2px rgba(60, 64, 67, 0.3), 0px 1px 3px 1px rgba(60, 64, 67, 0.15);\n",
              "      fill: #174EA6;\n",
              "    }\n",
              "\n",
              "    .colab-df-buttons div {\n",
              "      margin-bottom: 4px;\n",
              "    }\n",
              "\n",
              "    [theme=dark] .colab-df-convert {\n",
              "      background-color: #3B4455;\n",
              "      fill: #D2E3FC;\n",
              "    }\n",
              "\n",
              "    [theme=dark] .colab-df-convert:hover {\n",
              "      background-color: #434B5C;\n",
              "      box-shadow: 0px 1px 3px 1px rgba(0, 0, 0, 0.15);\n",
              "      filter: drop-shadow(0px 1px 2px rgba(0, 0, 0, 0.3));\n",
              "      fill: #FFFFFF;\n",
              "    }\n",
              "  </style>\n",
              "\n",
              "    <script>\n",
              "      const buttonEl =\n",
              "        document.querySelector('#df-5138f429-2f95-4512-be8b-2e64e1f786a9 button.colab-df-convert');\n",
              "      buttonEl.style.display =\n",
              "        google.colab.kernel.accessAllowed ? 'block' : 'none';\n",
              "\n",
              "      async function convertToInteractive(key) {\n",
              "        const element = document.querySelector('#df-5138f429-2f95-4512-be8b-2e64e1f786a9');\n",
              "        const dataTable =\n",
              "          await google.colab.kernel.invokeFunction('convertToInteractive',\n",
              "                                                    [key], {});\n",
              "        if (!dataTable) return;\n",
              "\n",
              "        const docLinkHtml = 'Like what you see? Visit the ' +\n",
              "          '<a target=\"_blank\" href=https://colab.research.google.com/notebooks/data_table.ipynb>data table notebook</a>'\n",
              "          + ' to learn more about interactive tables.';\n",
              "        element.innerHTML = '';\n",
              "        dataTable['output_type'] = 'display_data';\n",
              "        await google.colab.output.renderOutput(dataTable, element);\n",
              "        const docLink = document.createElement('div');\n",
              "        docLink.innerHTML = docLinkHtml;\n",
              "        element.appendChild(docLink);\n",
              "      }\n",
              "    </script>\n",
              "  </div>\n",
              "\n",
              "\n",
              "<div id=\"df-417352cf-2434-4b28-9457-25cb5edfbc6e\">\n",
              "  <button class=\"colab-df-quickchart\" onclick=\"quickchart('df-417352cf-2434-4b28-9457-25cb5edfbc6e')\"\n",
              "            title=\"Suggest charts\"\n",
              "            style=\"display:none;\">\n",
              "\n",
              "<svg xmlns=\"http://www.w3.org/2000/svg\" height=\"24px\"viewBox=\"0 0 24 24\"\n",
              "     width=\"24px\">\n",
              "    <g>\n",
              "        <path d=\"M19 3H5c-1.1 0-2 .9-2 2v14c0 1.1.9 2 2 2h14c1.1 0 2-.9 2-2V5c0-1.1-.9-2-2-2zM9 17H7v-7h2v7zm4 0h-2V7h2v10zm4 0h-2v-4h2v4z\"/>\n",
              "    </g>\n",
              "</svg>\n",
              "  </button>\n",
              "\n",
              "<style>\n",
              "  .colab-df-quickchart {\n",
              "      --bg-color: #E8F0FE;\n",
              "      --fill-color: #1967D2;\n",
              "      --hover-bg-color: #E2EBFA;\n",
              "      --hover-fill-color: #174EA6;\n",
              "      --disabled-fill-color: #AAA;\n",
              "      --disabled-bg-color: #DDD;\n",
              "  }\n",
              "\n",
              "  [theme=dark] .colab-df-quickchart {\n",
              "      --bg-color: #3B4455;\n",
              "      --fill-color: #D2E3FC;\n",
              "      --hover-bg-color: #434B5C;\n",
              "      --hover-fill-color: #FFFFFF;\n",
              "      --disabled-bg-color: #3B4455;\n",
              "      --disabled-fill-color: #666;\n",
              "  }\n",
              "\n",
              "  .colab-df-quickchart {\n",
              "    background-color: var(--bg-color);\n",
              "    border: none;\n",
              "    border-radius: 50%;\n",
              "    cursor: pointer;\n",
              "    display: none;\n",
              "    fill: var(--fill-color);\n",
              "    height: 32px;\n",
              "    padding: 0;\n",
              "    width: 32px;\n",
              "  }\n",
              "\n",
              "  .colab-df-quickchart:hover {\n",
              "    background-color: var(--hover-bg-color);\n",
              "    box-shadow: 0 1px 2px rgba(60, 64, 67, 0.3), 0 1px 3px 1px rgba(60, 64, 67, 0.15);\n",
              "    fill: var(--button-hover-fill-color);\n",
              "  }\n",
              "\n",
              "  .colab-df-quickchart-complete:disabled,\n",
              "  .colab-df-quickchart-complete:disabled:hover {\n",
              "    background-color: var(--disabled-bg-color);\n",
              "    fill: var(--disabled-fill-color);\n",
              "    box-shadow: none;\n",
              "  }\n",
              "\n",
              "  .colab-df-spinner {\n",
              "    border: 2px solid var(--fill-color);\n",
              "    border-color: transparent;\n",
              "    border-bottom-color: var(--fill-color);\n",
              "    animation:\n",
              "      spin 1s steps(1) infinite;\n",
              "  }\n",
              "\n",
              "  @keyframes spin {\n",
              "    0% {\n",
              "      border-color: transparent;\n",
              "      border-bottom-color: var(--fill-color);\n",
              "      border-left-color: var(--fill-color);\n",
              "    }\n",
              "    20% {\n",
              "      border-color: transparent;\n",
              "      border-left-color: var(--fill-color);\n",
              "      border-top-color: var(--fill-color);\n",
              "    }\n",
              "    30% {\n",
              "      border-color: transparent;\n",
              "      border-left-color: var(--fill-color);\n",
              "      border-top-color: var(--fill-color);\n",
              "      border-right-color: var(--fill-color);\n",
              "    }\n",
              "    40% {\n",
              "      border-color: transparent;\n",
              "      border-right-color: var(--fill-color);\n",
              "      border-top-color: var(--fill-color);\n",
              "    }\n",
              "    60% {\n",
              "      border-color: transparent;\n",
              "      border-right-color: var(--fill-color);\n",
              "    }\n",
              "    80% {\n",
              "      border-color: transparent;\n",
              "      border-right-color: var(--fill-color);\n",
              "      border-bottom-color: var(--fill-color);\n",
              "    }\n",
              "    90% {\n",
              "      border-color: transparent;\n",
              "      border-bottom-color: var(--fill-color);\n",
              "    }\n",
              "  }\n",
              "</style>\n",
              "\n",
              "  <script>\n",
              "    async function quickchart(key) {\n",
              "      const quickchartButtonEl =\n",
              "        document.querySelector('#' + key + ' button');\n",
              "      quickchartButtonEl.disabled = true;  // To prevent multiple clicks.\n",
              "      quickchartButtonEl.classList.add('colab-df-spinner');\n",
              "      try {\n",
              "        const charts = await google.colab.kernel.invokeFunction(\n",
              "            'suggestCharts', [key], {});\n",
              "      } catch (error) {\n",
              "        console.error('Error during call to suggestCharts:', error);\n",
              "      }\n",
              "      quickchartButtonEl.classList.remove('colab-df-spinner');\n",
              "      quickchartButtonEl.classList.add('colab-df-quickchart-complete');\n",
              "    }\n",
              "    (() => {\n",
              "      let quickchartButtonEl =\n",
              "        document.querySelector('#df-417352cf-2434-4b28-9457-25cb5edfbc6e button');\n",
              "      quickchartButtonEl.style.display =\n",
              "        google.colab.kernel.accessAllowed ? 'block' : 'none';\n",
              "    })();\n",
              "  </script>\n",
              "</div>\n",
              "    </div>\n",
              "  </div>\n"
            ]
          },
          "metadata": {},
          "execution_count": 20
        }
      ]
    },
    {
      "cell_type": "code",
      "source": [
        "ct"
      ],
      "metadata": {
        "colab": {
          "base_uri": "https://localhost:8080/",
          "height": 36
        },
        "id": "f1z_7YZHag9O",
        "outputId": "c5ae4448-e02d-4a20-bc9b-93bad4789f6c"
      },
      "execution_count": null,
      "outputs": [
        {
          "output_type": "execute_result",
          "data": {
            "text/plain": [
              "'cfsupm'"
            ],
            "application/vnd.google.colaboratory.intrinsic+json": {
              "type": "string"
            }
          },
          "metadata": {},
          "execution_count": 21
        }
      ]
    },
    {
      "cell_type": "markdown",
      "source": [
        "# RSA"
      ],
      "metadata": {
        "id": "llgpQfrYcJHy"
      }
    },
    {
      "cell_type": "code",
      "source": [
        "import math\n",
        "\n",
        "def gcd(a, b):\n",
        "    if b == 0:\n",
        "      return a\n",
        "    else:\n",
        "      return gcd(b,a%b)\n",
        "\n",
        "p, q = 13,11\n",
        "n = p * q\n",
        "phi = (p-1)*(q-1)\n",
        "e = 13\n",
        "\n",
        "while (e < phi):\n",
        "    if(gcd(e, phi) == 1):\n",
        "        break\n",
        "    else:\n",
        "        e = e+1\n",
        "d = pow(e,-1,phi)\n",
        "\n",
        "msg = 13\n",
        "\n",
        "print(\"Message data = \", msg)\n",
        "\n",
        "# Encryption c = (msg ^ e) % n\n",
        "c = pow(msg, e) % n\n",
        "print(\"Encrypted data = \", c)\n",
        "\n",
        "# Decryption m = (c ^ d) % n\n",
        "m = pow(c, d) % n\n",
        "print(\"Original Message Sent = \", m)"
      ],
      "metadata": {
        "colab": {
          "base_uri": "https://localhost:8080/"
        },
        "id": "icP38TUObgs-",
        "outputId": "0399461f-52e8-4131-96b5-073f6befb48a"
      },
      "execution_count": null,
      "outputs": [
        {
          "output_type": "stream",
          "name": "stdout",
          "text": [
            "Message data =  13\n",
            "Encrypted data =  52\n",
            "Original Message Sent =  13\n"
          ]
        }
      ]
    },
    {
      "cell_type": "markdown",
      "source": [
        "# RSA DS"
      ],
      "metadata": {
        "id": "tHBD2lBedHjg"
      }
    },
    {
      "cell_type": "code",
      "source": [
        "def simple_hash(message):\n",
        "    return sum(ord(char) for char in str(message))\n",
        "\n",
        "def gcd(a, b):\n",
        "    if b == 0:\n",
        "        return a\n",
        "    else:\n",
        "        return gcd(b, a % b)\n",
        "\n",
        "p, q = 13, 11\n",
        "n = p * q\n",
        "phi = (p - 1) * (q - 1)\n",
        "e = 13\n",
        "while e < phi:\n",
        "    if gcd(e, phi) == 1:\n",
        "        break\n",
        "    else:\n",
        "        e = e + 1\n",
        "\n",
        "d = pow(e, -1, phi)\n",
        "\n",
        "msg = 13\n",
        "print(\"Message data =\", msg)\n",
        "\n",
        "hash = simple_hash(msg)\n",
        "print(\"Hashed message (manual) =\", hash)\n",
        "\n",
        "signature = pow(hash, d, n)\n",
        "print(\"Signature =\", signature)\n",
        "\n",
        "is_valid_signature = pow(signature, e, n) == hash\n",
        "if(is_valid_signature):\n",
        "  print(\"the signature is valid\")\n",
        "else :\n",
        "  print(\"Signature is not valid\")"
      ],
      "metadata": {
        "colab": {
          "base_uri": "https://localhost:8080/"
        },
        "id": "0z77gKOvcO59",
        "outputId": "c8222b8f-69e0-496c-b951-4a9638d5e842"
      },
      "execution_count": null,
      "outputs": [
        {
          "output_type": "stream",
          "name": "stdout",
          "text": [
            "Message data = 13\n",
            "Hashed message (manual) = 100\n",
            "Signature = 100\n",
            "the signature is valid\n"
          ]
        }
      ]
    },
    {
      "cell_type": "markdown",
      "source": [
        "# Diffe Hellman"
      ],
      "metadata": {
        "id": "vbJuJMMLi7lM"
      }
    },
    {
      "cell_type": "code",
      "source": [
        "def diffie_hellman(p,g,b,a):\n",
        "  Xa = pow(g,a)%p\n",
        "  Xb = pow(g,b)%p\n",
        "  Ak = pow(Xb,a)%p\n",
        "  Bk = pow(Xa,b)%p\n",
        "  return Xa , Xb , Ak , Bk"
      ],
      "metadata": {
        "id": "Y2LQhfsZVGYs"
      },
      "execution_count": null,
      "outputs": []
    },
    {
      "cell_type": "code",
      "source": [
        "# Parameters\n",
        "g = 9\n",
        "p = 23\n",
        "\n",
        "# Alice and Bob's private keys\n",
        "a = 4\n",
        "b = 11\n",
        "\n",
        "# Display the exchanged values\n",
        "print(\"Alice's private key:\", a)\n",
        "print(\"Bob's private key:\", b)\n",
        "\n",
        "# Perform key exchange between Alice and Bob\n",
        "Xa, Xb, Ak, Bk = diffie_hellman(p, g, b, a)\n",
        "\n",
        "# Display the exchanged values\n",
        "print(\"\\nAlice sends Xa to Bob:\", Xa)\n",
        "print(\"Bob sends Xb to Alice:\", Xb)\n",
        "\n",
        "print(f\"\\nSecret Key For A: {Ak}\")\n",
        "print(f\"Secret Key For B: {Bk}\")\n",
        "\n",
        "if Ak == Bk:\n",
        "    print(\"\\nKeys Have Been Exchanged Successfully\")\n",
        "else:\n",
        "    print(\"\\nKeys Have Not Been Exchanged Successfully\")"
      ],
      "metadata": {
        "colab": {
          "base_uri": "https://localhost:8080/"
        },
        "id": "ASJWES23aKKy",
        "outputId": "9bdf6f7c-8040-40c4-dbc0-89cec5217960"
      },
      "execution_count": null,
      "outputs": [
        {
          "output_type": "stream",
          "name": "stdout",
          "text": [
            "Alice's private key: 4\n",
            "Bob's private key: 11\n",
            "\n",
            "Alice sends Xa to Bob: 6\n",
            "Bob sends Xb to Alice: 1\n",
            "\n",
            "Secret Key For A: 1\n",
            "Secret Key For B: 1\n",
            "\n",
            "Keys Have Been Exchanged Successfully\n"
          ]
        }
      ]
    },
    {
      "cell_type": "markdown",
      "source": [
        "# Man in the mid attack"
      ],
      "metadata": {
        "id": "xMPiZ2P8k8sS"
      }
    },
    {
      "cell_type": "code",
      "source": [
        "def deffie(a,b,g,p):\n",
        "  Xa=pow(g,a)%p\n",
        "  Xb=pow(g,b)%p\n",
        "  return Xa, Xb\n",
        "\n",
        "p=23\n",
        "g=9\n",
        "\n",
        "a = 5\n",
        "b = 6\n",
        "\n",
        "c=11\n",
        "d=13\n",
        "\n",
        "Xa,Xb=deffie(a,b,g,p)\n",
        "print(\"Alice sends Xa to Bob\",Xa)\n",
        "print(\"Bob sends Xb to Alice\",Xb)\n",
        "\n",
        "Xc,Xd=deffie(c,d,g,p)\n",
        "print(\"Darth intercepts Xa and sends Xc to Bob\",Xc)\n",
        "print(\"Darth intercepts Xb and sends Xd to Alice\",Xd)\n",
        "\n",
        "DKa=pow(Xa,d)%p\n",
        "DKb=pow(Xb,c)%p\n",
        "print(\"Darth calculates secret key of ALice: \",DKa)\n",
        "print(\"Darth calculates secret key of Bob: \",DKb)\n",
        "\n",
        "Ka=pow(Xd,a)%p\n",
        "Kb=pow(Xc,b)%p\n",
        "print(\"Alice calculates secret key unaware of the attack: \",Ka)\n",
        "print(\"Bob calculates secret key unaware of the attack: \",Kb)"
      ],
      "metadata": {
        "id": "Pl8tWy_9jFnY",
        "colab": {
          "base_uri": "https://localhost:8080/"
        },
        "outputId": "af7d2901-1eec-48ad-f685-dd97f19924ac"
      },
      "execution_count": null,
      "outputs": [
        {
          "output_type": "stream",
          "name": "stdout",
          "text": [
            "Alice sends Xa to Bob 8\n",
            "Bob sends Xb to Alice 3\n",
            "Darth intercepts Xa and sends Xc to Bob 1\n",
            "Darth intercepts Xb and sends Xd to Alice 12\n",
            "Darth calculates secret key of ALice:  18\n",
            "Darth calculates secret key of Bob:  1\n",
            "Alice calculates secret key unaware of the attack:  18\n",
            "Bob calculates secret key unaware of the attack:  1\n"
          ]
        }
      ]
    },
    {
      "cell_type": "code",
      "source": [],
      "metadata": {
        "id": "AbS3l3iId0dq"
      },
      "execution_count": null,
      "outputs": []
    }
  ]
}